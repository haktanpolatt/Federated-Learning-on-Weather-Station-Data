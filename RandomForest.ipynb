{
 "cells": [
  {
   "cell_type": "markdown",
   "id": "ee9d4a9f",
   "metadata": {},
   "source": [
    "RANDOM FOREST"
   ]
  },
  {
   "cell_type": "markdown",
   "id": "1a822075",
   "metadata": {},
   "source": [
    "Senaryo 1"
   ]
  },
  {
   "cell_type": "code",
   "execution_count": 1,
   "id": "0c49abdb",
   "metadata": {},
   "outputs": [],
   "source": [
    "# Gerekli kütüphaneleri içe aktar\n",
    "import pandas as pd\n",
    "from sklearn.ensemble import RandomForestRegressor\n",
    "from sklearn.model_selection import train_test_split\n",
    "from sklearn.metrics import mean_absolute_error, mean_squared_error, r2_score\n",
    "import numpy as np"
   ]
  },
  {
   "cell_type": "code",
   "execution_count": 2,
   "id": "e2fdcdb6",
   "metadata": {},
   "outputs": [
    {
     "name": "stderr",
     "output_type": "stream",
     "text": [
      "C:\\Users\\hakta\\AppData\\Local\\Temp\\ipykernel_7864\\3182437338.py:2: DtypeWarning: Columns (62) have mixed types. Specify dtype option on import or set low_memory=False.\n",
      "  df = pd.read_csv(\"dataset_synop.csv\", encoding=\"ISO-8859-1\", delimiter=\";\")\n"
     ]
    }
   ],
   "source": [
    "# Veri setini yükle\n",
    "df = pd.read_csv(\"dataset_synop.csv\", encoding=\"ISO-8859-1\", delimiter=\";\")"
   ]
  },
  {
   "cell_type": "code",
   "execution_count": 3,
   "id": "4908acfa",
   "metadata": {},
   "outputs": [],
   "source": [
    "# Ortak fiziksel ölçümleri seç\n",
    "common_features = [\n",
    "    \"Sea level pressure\", \"3-hour pressure variation\", \"10-min mean wind direction\",\n",
    "    \"10-min mean wind speed\", \"Temperature (C)\", \"Humidity\"\n",
    "]"
   ]
  },
  {
   "cell_type": "markdown",
   "id": "4b7af6b1",
   "metadata": {},
   "source": [
    "EKSİK VERİLERİ DOLDURMA YÖNTEMİ"
   ]
  },
  {
   "cell_type": "markdown",
   "id": "57c6c366",
   "metadata": {},
   "source": [
    "Temizleme"
   ]
  },
  {
   "cell_type": "code",
   "execution_count": null,
   "id": "60a04f8b",
   "metadata": {},
   "outputs": [],
   "source": [
    "# Eksik değerleri doldur\n",
    "df = df[common_features + [\"WMO Station ID\"]].dropna()"
   ]
  },
  {
   "cell_type": "code",
   "execution_count": null,
   "id": "1911ff63",
   "metadata": {},
   "outputs": [],
   "source": [
    "# İstasyonlara göre veriyi ayır\n",
    "df_7761 = df[df[\"WMO Station ID\"] == 7761]\n",
    "df_7790 = df[df[\"WMO Station ID\"] == 7790]"
   ]
  },
  {
   "cell_type": "code",
   "execution_count": null,
   "id": "428dc904",
   "metadata": {},
   "outputs": [],
   "source": [
    "# Her istasyon için ayrı ayrı işlem yap\n",
    "for station_id, station_data in [(\"7761\", df_7761), (\"7790\", df_7790)]:\n",
    "    print(f\"\\nİstasyon {station_id} için sonuçlar:\")\n",
    "    \n",
    "    # Özellikler ve hedef değişkeni ayır\n",
    "    X = station_data.drop(columns=[\"Temperature (C)\", \"WMO Station ID\"])\n",
    "    y = station_data[\"Temperature (C)\"]\n",
    "    \n",
    "    # Veriyi eğitim ve test setlerine ayır\n",
    "    X_train, X_test, y_train, y_test = train_test_split(X, y, test_size=0.2, random_state=42)\n",
    "    \n",
    "    # Random Forest modelini oluştur ve eğit\n",
    "    rf_model = RandomForestRegressor(random_state=42)\n",
    "    rf_model.fit(X_train, y_train)\n",
    "    \n",
    "    # Tahmin yap\n",
    "    y_pred = rf_model.predict(X_test)\n",
    "    \n",
    "    # Değerlendirme metriklerini hesapla\n",
    "    mae = mean_absolute_error(y_test, y_pred)\n",
    "    mse = mean_squared_error(y_test, y_pred)\n",
    "    rmse = np.sqrt(mse)\n",
    "    r2 = r2_score(y_test, y_pred)\n",
    "    \n",
    "    # Sonuçları yazdır\n",
    "    print(f\"Mean Absolute Error (MAE): {mae}\")\n",
    "    print(f\"Mean Squared Error (MSE): {mse}\")\n",
    "    print(f\"Root Mean Squared Error (RMSE): {rmse}\")\n",
    "    print(f\"R^2 Score: {r2}\")"
   ]
  },
  {
   "cell_type": "markdown",
   "id": "dc64a360",
   "metadata": {},
   "source": [
    "Mean Value"
   ]
  },
  {
   "cell_type": "code",
   "execution_count": null,
   "id": "d5ae141a",
   "metadata": {},
   "outputs": [],
   "source": [
    "# Eksik değerleri sütunların ortalaması ile doldur\n",
    "df[common_features] = df[common_features].apply(lambda col: col.fillna(col.mean()), axis=0)"
   ]
  },
  {
   "cell_type": "markdown",
   "id": "14aa4e96",
   "metadata": {},
   "source": [
    "Mean Mükemmel Olduğu İçin Median Denendi"
   ]
  },
  {
   "cell_type": "code",
   "execution_count": null,
   "id": "57ee2e7c",
   "metadata": {},
   "outputs": [],
   "source": [
    "df[\"Temperature (C)\"] = df[\"Temperature (C)\"].fillna(df[\"Temperature (C)\"].median())"
   ]
  },
  {
   "cell_type": "code",
   "execution_count": 6,
   "id": "9850080e",
   "metadata": {},
   "outputs": [],
   "source": [
    "# İstasyonlara göre veriyi ayır\n",
    "df_7761 = df[df[\"WMO Station ID\"] == 7761]\n",
    "df_7790 = df[df[\"WMO Station ID\"] == 7790]"
   ]
  },
  {
   "cell_type": "code",
   "execution_count": null,
   "id": "d737a6f9",
   "metadata": {},
   "outputs": [],
   "source": [
    "# Her istasyon için ayrı ayrı işlem yap\n",
    "for station_id, station_data in [(\"7761\", df_7761), (\"7790\", df_7790)]:\n",
    "    print(f\"\\nİstasyon {station_id} için sonuçlar:\")\n",
    "    \n",
    "    # Özellikler ve hedef değişkeni ayır\n",
    "    X = station_data.drop(columns=[\"Temperature (C)\", \"WMO Station ID\"])  # Hedef değişken ve istasyon ID'sini çıkar\n",
    "    X = X.select_dtypes(include=[\"float64\", \"int64\"])  # Sadece sayısal sütunları seç\n",
    "    y = station_data[\"Temperature (C)\"]  # Hedef değişken\n",
    "    \n",
    "    # Veriyi eğitim ve test setlerine ayır\n",
    "    X_train, X_test, y_train, y_test = train_test_split(X, y, test_size=0.2, random_state=42)\n",
    "    \n",
    "    # Random Forest modelini oluştur ve eğit\n",
    "    rf_model = RandomForestRegressor(random_state=42)\n",
    "    rf_model.fit(X_train, y_train)\n",
    "    \n",
    "    # Tahmin yap\n",
    "    y_pred = rf_model.predict(X_test)\n",
    "    \n",
    "    # Değerlendirme metriklerini hesapla\n",
    "    mae = mean_absolute_error(y_test, y_pred)\n",
    "    mse = mean_squared_error(y_test, y_pred)\n",
    "    rmse = np.sqrt(mse)\n",
    "    r2 = r2_score(y_test, y_pred)\n",
    "    \n",
    "    # Sonuçları yazdır\n",
    "    print(f\"Mean Absolute Error (MAE): {mae}\")\n",
    "    print(f\"Mean Squared Error (MSE): {mse}\")\n",
    "    print(f\"Root Mean Squared Error (RMSE): {rmse}\")\n",
    "    print(f\"R^2 Score: {r2}\")"
   ]
  },
  {
   "cell_type": "markdown",
   "id": "154d5942",
   "metadata": {},
   "source": [
    "Interpolasyon"
   ]
  },
  {
   "cell_type": "code",
   "execution_count": 4,
   "id": "1975d2a2",
   "metadata": {},
   "outputs": [],
   "source": [
    "df[common_features] = df[common_features].interpolate(method='linear', axis=0)"
   ]
  },
  {
   "cell_type": "code",
   "execution_count": 5,
   "id": "ea987ef3",
   "metadata": {},
   "outputs": [],
   "source": [
    "# İstasyonlara göre veriyi ayır\n",
    "df_7761 = df[df[\"WMO Station ID\"] == 7761]\n",
    "df_7790 = df[df[\"WMO Station ID\"] == 7790]"
   ]
  },
  {
   "cell_type": "markdown",
   "id": "c2b329dc",
   "metadata": {},
   "source": [
    "Hiperparametre ayarı yapılmış eğitim modeli"
   ]
  },
  {
   "cell_type": "code",
   "execution_count": 7,
   "id": "3d2553be",
   "metadata": {},
   "outputs": [
    {
     "name": "stdout",
     "output_type": "stream",
     "text": [
      "\n",
      "İstasyon 7761 için sonuçlar:\n",
      "Mean Absolute Error (MAE): 0.0020683311467548427\n",
      "Mean Squared Error (MSE): 0.0035206425321130472\n",
      "Root Mean Squared Error (RMSE): 0.05933500258795855\n",
      "R^2 Score: 0.9999255076370822\n",
      "Mean Absolute Percentage Error (MAPE): 0.02583491477092288\n",
      "\n",
      "İstasyon 7790 için sonuçlar:\n",
      "Mean Absolute Error (MAE): 0.021427187980687722\n",
      "Mean Squared Error (MSE): 0.09140171125580605\n",
      "Root Mean Squared Error (RMSE): 0.30232715930892823\n",
      "R^2 Score: 0.9980234195781912\n",
      "Mean Absolute Percentage Error (MAPE): 0.1509121445677927\n"
     ]
    }
   ],
   "source": [
    "# Her istasyon için ayrı ayrı işlem yap\n",
    "for station_id, station_data in [(\"7761\", df_7761), (\"7790\", df_7790)]:\n",
    "    print(f\"\\nİstasyon {station_id} için sonuçlar:\")\n",
    "    \n",
    "    # Özellikler ve hedef değişkeni ayır\n",
    "    X = station_data.drop(columns=[\"Temperature (C)\", \"WMO Station ID\"])  # Hedef değişken ve istasyon ID'sini çıkar\n",
    "    X = X.select_dtypes(include=[\"float64\", \"int64\"])  # Sadece sayısal sütunları seç\n",
    "    y = station_data[\"Temperature (C)\"]  # Hedef değişken\n",
    "    \n",
    "    # Veriyi eğitim ve test setlerine ayır\n",
    "    X_train, X_test, y_train, y_test = train_test_split(X, y, test_size=0.2, random_state=42)\n",
    "    \n",
    "    # Random Forest modelini oluştur ve eğit\n",
    "    rf_model = RandomForestRegressor(n_estimators=100, max_depth=10, random_state=42)\n",
    "    rf_model.fit(X_train, y_train)\n",
    "    \n",
    "    # Tahmin yap\n",
    "    y_pred = rf_model.predict(X_test)\n",
    "    \n",
    "    # Değerlendirme metriklerini hesapla\n",
    "    mae = mean_absolute_error(y_test, y_pred)\n",
    "    mse = mean_squared_error(y_test, y_pred)\n",
    "    rmse = np.sqrt(mse)\n",
    "    r2 = r2_score(y_test, y_pred)\n",
    "    # Sıfır olmayan değerlere göre filtrele\n",
    "    non_zero_indices = y_test != 0\n",
    "    mape = np.mean(np.abs((y_test[non_zero_indices] - y_pred[non_zero_indices]) / y_test[non_zero_indices])) * 100\n",
    "    \n",
    "    # Sonuçları yazdır\n",
    "    print(f\"Mean Absolute Error (MAE): {mae}\")\n",
    "    print(f\"Mean Squared Error (MSE): {mse}\")\n",
    "    print(f\"Root Mean Squared Error (RMSE): {rmse}\")\n",
    "    print(f\"R^2 Score: {r2}\")\n",
    "    print(f\"Mean Absolute Percentage Error (MAPE): {mape}\")"
   ]
  },
  {
   "cell_type": "markdown",
   "id": "9a5b3e44",
   "metadata": {},
   "source": [
    "AŞIRI UYUM DURUMUNDA KONTROL EDİLMESİ GEREKENLER"
   ]
  },
  {
   "cell_type": "code",
   "execution_count": null,
   "id": "c4746631",
   "metadata": {},
   "outputs": [],
   "source": [
    "# True dönerse, eğitim ve test verileri aynı\n",
    "print(X_train.equals(X_test))"
   ]
  },
  {
   "cell_type": "code",
   "execution_count": null,
   "id": "116cdf5e",
   "metadata": {},
   "outputs": [],
   "source": [
    "# True dönerse, hedef değişken özelliklerde yer alıyor\n",
    "print(\"Temperature (C)\" in X.columns)"
   ]
  },
  {
   "cell_type": "code",
   "execution_count": null,
   "id": "6830b2d6",
   "metadata": {},
   "outputs": [],
   "source": [
    "# Eğer 1 dönerse, tüm değerler aynı\n",
    "print(df[\"Temperature (C)\"].nunique())  "
   ]
  },
  {
   "cell_type": "code",
   "execution_count": null,
   "id": "666371b8",
   "metadata": {},
   "outputs": [],
   "source": [
    "print(df[\"Temperature (C)\"].value_counts())"
   ]
  }
 ],
 "metadata": {
  "kernelspec": {
   "display_name": ".venv",
   "language": "python",
   "name": "python3"
  },
  "language_info": {
   "codemirror_mode": {
    "name": "ipython",
    "version": 3
   },
   "file_extension": ".py",
   "mimetype": "text/x-python",
   "name": "python",
   "nbconvert_exporter": "python",
   "pygments_lexer": "ipython3",
   "version": "3.13.3"
  }
 },
 "nbformat": 4,
 "nbformat_minor": 5
}
