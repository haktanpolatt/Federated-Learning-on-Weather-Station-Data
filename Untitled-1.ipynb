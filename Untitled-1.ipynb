{
 "cells": [
  {
   "cell_type": "markdown",
   "id": "d469d77e",
   "metadata": {},
   "source": [
    "# A Jupyter Notebook to Analyze Weather Data\n",
    "This notebook analyzes weather data using two scenarios with five machine learning algorithms: Linear Regression, Random Forest, Gradient Boosting, Neural Networks, and XGBoost."
   ]
  },
  {
   "cell_type": "markdown",
   "id": "2771f721",
   "metadata": {},
   "source": [
    "## Import Required Libraries\n",
    "Import libraries such as pandas, numpy, matplotlib, seaborn, and machine learning libraries like scikit-learn, TensorFlow, and XGBoost."
   ]
  },
  {
   "cell_type": "code",
   "execution_count": 2,
   "id": "fba0767b",
   "metadata": {},
   "outputs": [],
   "source": [
    "# Import Required Libraries\n",
    "import pandas as pd\n",
    "import numpy as np\n",
    "import matplotlib.pyplot as plt\n",
    "import seaborn as sns\n",
    "from sklearn.model_selection import train_test_split\n",
    "from sklearn.preprocessing import MinMaxScaler\n",
    "from sklearn.linear_model import LinearRegression\n",
    "from sklearn.ensemble import RandomForestRegressor, GradientBoostingRegressor\n",
    "from sklearn.metrics import mean_absolute_error, r2_score, mean_squared_error, mean_absolute_percentage_error, explained_variance_score\n",
    "#import tensorflow as tf\n",
    "#from tensorflow import keras\n",
    "#import xgboost as xgb"
   ]
  },
  {
   "cell_type": "markdown",
   "id": "c652d87d",
   "metadata": {},
   "source": [
    "## Load and Explore Dataset\n",
    "Load the dataset into a pandas DataFrame, display the first few rows, and check for missing values and data types."
   ]
  },
  {
   "cell_type": "code",
   "execution_count": 3,
   "id": "1eaeabe8",
   "metadata": {},
   "outputs": [
    {
     "name": "stdout",
     "output_type": "stream",
     "text": [
      "First 5 rows of the dataset:\n",
      "   WMO Station ID                       Date  Sea level pressure  \\\n",
      "0            7761  2010-01-05T20:00:00+02:00             99490.0   \n",
      "1            7790  2010-03-01T17:00:00+02:00            101130.0   \n",
      "2            7790  2010-02-27T23:00:00+02:00            100990.0   \n",
      "3            7790  2010-02-28T11:00:00+02:00            100300.0   \n",
      "4            7790  2010-02-25T17:00:00+02:00            100710.0   \n",
      "\n",
      "   3-hour pressure variation  Barometric trend type  \\\n",
      "0                     -100.0                    7.0   \n",
      "1                      -50.0                    5.0   \n",
      "2                     -240.0                    6.0   \n",
      "3                       70.0                    3.0   \n",
      "4                      -80.0                    7.0   \n",
      "\n",
      "   10-min mean wind direction  10-min mean wind speed  Temperature  Dew point  \\\n",
      "0                        60.0                     1.5       285.05     284.15   \n",
      "1                       330.0                     3.6       285.65     284.25   \n",
      "2                       150.0                     1.5       282.45     280.75   \n",
      "3                       230.0                     2.1       288.95     284.15   \n",
      "4                        30.0                     1.5       288.55     282.85   \n",
      "\n",
      "   Humidity  ...  Altitude  municipalities (name)  municipalities (code)  \\\n",
      "0      94.0  ...         5                Ajaccio                  2a004   \n",
      "1      91.0  ...        10               Lucciana                  2b148   \n",
      "2      89.0  ...        10               Lucciana                  2b148   \n",
      "3      73.0  ...        10               Lucciana                  2b148   \n",
      "4      69.0  ...        10               Lucciana                  2b148   \n",
      "\n",
      "           EPCI (name)  EPCI (code)  department (name)  department (code)  \\\n",
      "0  CA du Pays Ajaccien    242010056       Corse-du-Sud                 2a   \n",
      "1    CC de Marana-Golo    200036499        Haute-Corse                 2b   \n",
      "2    CC de Marana-Golo    200036499        Haute-Corse                 2b   \n",
      "3    CC de Marana-Golo    200036499        Haute-Corse                 2b   \n",
      "4    CC de Marana-Golo    200036499        Haute-Corse                 2b   \n",
      "\n",
      "   region (name)  region (code)  month_of_the_yearx  \n",
      "0          Corse             94                   1  \n",
      "1          Corse             94                   3  \n",
      "2          Corse             94                   2  \n",
      "3          Corse             94                   2  \n",
      "4          Corse             94                   2  \n",
      "\n",
      "[5 rows x 82 columns]\n",
      "\n",
      "Dataset Info:\n",
      "<class 'pandas.core.frame.DataFrame'>\n",
      "RangeIndex: 85123 entries, 0 to 85122\n",
      "Data columns (total 82 columns):\n",
      " #   Column                                                Non-Null Count  Dtype  \n",
      "---  ------                                                --------------  -----  \n",
      " 0   WMO Station ID                                        85123 non-null  int64  \n",
      " 1   Date                                                  85123 non-null  object \n",
      " 2   Sea level pressure                                    84847 non-null  float64\n",
      " 3   3-hour pressure variation                             85043 non-null  float64\n",
      " 4   Barometric trend type                                 85058 non-null  float64\n",
      " 5   10-min mean wind direction                            85083 non-null  float64\n",
      " 6   10-min mean wind speed                                85087 non-null  float64\n",
      " 7   Temperature                                           84878 non-null  float64\n",
      " 8   Dew point                                             84857 non-null  float64\n",
      " 9   Humidity                                              84872 non-null  float64\n",
      " 10  Horizontal visibility                                 85058 non-null  float64\n",
      " 11  Present weather                                       80351 non-null  float64\n",
      " 12  Past weather 1                                        33080 non-null  float64\n",
      " 13  Past weather 2                                        33054 non-null  float64\n",
      " 14  Total cloud cover                                     47715 non-null  float64\n",
      " 15  Lower-level cloud cover                               72758 non-null  float64\n",
      " 16  Lower-level cloud base height                         50741 non-null  float64\n",
      " 17  Lower-level cloud type                                29146 non-null  float64\n",
      " 18  Middle-level cloud type                               28463 non-null  float64\n",
      " 19  Upper-level cloud type                                28026 non-null  float64\n",
      " 20  Station pressure                                      85069 non-null  float64\n",
      " 21  Barometric level                                      0 non-null      float64\n",
      " 22  Geopotential                                          0 non-null      float64\n",
      " 23  24-hour pressure variation                            55954 non-null  float64\n",
      " 24  12-hour minimum temperature                           19966 non-null  float64\n",
      " 25  24-hour minimum temperature                           0 non-null      float64\n",
      " 26  12-hour maximum temperature                           19967 non-null  float64\n",
      " 27  24-hour maximum temperature                           0 non-null      float64\n",
      " 28  12-hour minimum ground temperature                    52741 non-null  float64\n",
      " 29  Measurement method Wet-bulb temperature               0 non-null      float64\n",
      " 30  Wet-bulb temperature                                  0 non-null      float64\n",
      " 31  Gust over last 10 minutes                             51775 non-null  float64\n",
      " 32  Gusts over a period                                   80583 non-null  float64\n",
      " 33  Gust measurement period                               80644 non-null  float64\n",
      " 34  Ground condition                                      13835 non-null  float64\n",
      " 35  Total height of snow, ice, other layer on the ground  57691 non-null  float64\n",
      " 36  Height of fresh snow                                  24180 non-null  float64\n",
      " 37  Measurement period of fresh snow                      23545 non-null  float64\n",
      " 38  Precipitation in the last hour                        83720 non-null  float64\n",
      " 39  Precipitation in the last 3 hours                     82990 non-null  float64\n",
      " 40  Precipitation in the last 6 hours                     60675 non-null  float64\n",
      " 41  Precipitation in the last 12 hours                    59287 non-null  float64\n",
      " 42  Precipitation in the last 24 hours                    53965 non-null  float64\n",
      " 43  Special phenomenon 1                                  28640 non-null  float64\n",
      " 44  Special phenomenon 2                                  28635 non-null  float64\n",
      " 45  Special phenomenon 3                                  16936 non-null  float64\n",
      " 46  Special phenomenon 4                                  141 non-null    float64\n",
      " 47  Cloud cover 1                                         50201 non-null  float64\n",
      " 48  Cloud type 1                                          28244 non-null  float64\n",
      " 49  Base height 1                                         49633 non-null  float64\n",
      " 50  Cloud cover 2                                         27906 non-null  float64\n",
      " 51  Cloud type 2                                          16434 non-null  float64\n",
      " 52  Base height 2                                         27609 non-null  float64\n",
      " 53  Cloud cover 3                                         11829 non-null  float64\n",
      " 54  Cloud type 3                                          6611 non-null   float64\n",
      " 55  Base height 3                                         11829 non-null  float64\n",
      " 56  Cloud cover 4                                         671 non-null    float64\n",
      " 57  Cloud type 4                                          2372 non-null   float64\n",
      " 58  Base height 4                                         671 non-null    float64\n",
      " 59  Coordinates                                           85123 non-null  object \n",
      " 60  Name                                                  85123 non-null  object \n",
      " 61  Barometric trend type.1                               85058 non-null  object \n",
      " 62  Past weather 1.1                                      33080 non-null  object \n",
      " 63  Present weather.1                                     80351 non-null  object \n",
      " 64  Temperature (C)                                       84878 non-null  float64\n",
      " 65  12-hour minimum temperature (C)                       19966 non-null  float64\n",
      " 66  24-hour minimum temperature (C)                       0 non-null      float64\n",
      " 67  12-hour maximum temperature (C)                       19967 non-null  float64\n",
      " 68  24-hour maximum temperature (C)                       0 non-null      float64\n",
      " 69  12-hour minimum ground temperature (in C)             52741 non-null  float64\n",
      " 70  Latitude                                              85123 non-null  float64\n",
      " 71  Longitude                                             85123 non-null  float64\n",
      " 72  Altitude                                              85123 non-null  int64  \n",
      " 73  municipalities (name)                                 85123 non-null  object \n",
      " 74  municipalities (code)                                 85123 non-null  object \n",
      " 75  EPCI (name)                                           85123 non-null  object \n",
      " 76  EPCI (code)                                           85123 non-null  int64  \n",
      " 77  department (name)                                     85123 non-null  object \n",
      " 78  department (code)                                     85123 non-null  object \n",
      " 79  region (name)                                         85123 non-null  object \n",
      " 80  region (code)                                         85123 non-null  int64  \n",
      " 81  month_of_the_yearx                                    85123 non-null  int64  \n",
      "dtypes: float64(65), int64(5), object(12)\n",
      "memory usage: 53.3+ MB\n"
     ]
    },
    {
     "name": "stderr",
     "output_type": "stream",
     "text": [
      "C:\\Users\\hakta\\AppData\\Local\\Temp\\ipykernel_18076\\1295850893.py:2: DtypeWarning: Columns (62) have mixed types. Specify dtype option on import or set low_memory=False.\n",
      "  df = pd.read_csv(\"dataset_synop.csv\", encoding=\"ISO-8859-1\", delimiter=\";\")\n"
     ]
    }
   ],
   "source": [
    "# Load and Explore Dataset\n",
    "df = pd.read_csv(\"dataset_synop.csv\", encoding=\"ISO-8859-1\", delimiter=\";\")\n",
    "print(\"First 5 rows of the dataset:\")\n",
    "print(df.head())\n",
    "print(\"\\nDataset Info:\")\n",
    "df.info()"
   ]
  },
  {
   "cell_type": "markdown",
   "id": "416978f0",
   "metadata": {},
   "source": [
    "## Identify Common Physical Measurements\n",
    "Identify columns that represent physical measurements and are common across all stations."
   ]
  },
  {
   "cell_type": "code",
   "execution_count": 4,
   "id": "33befe62",
   "metadata": {},
   "outputs": [
    {
     "name": "stdout",
     "output_type": "stream",
     "text": [
      "Common physical measurement columns:\n",
      "['Sea level pressure', 'Barometric trend type', '10-min mean wind direction', '10-min mean wind speed', 'Dew point', 'Humidity', 'Horizontal visibility', 'Station pressure', 'Temperature (C)']\n"
     ]
    }
   ],
   "source": [
    "# Identify Common Physical Measurements\n",
    "common_columns = [\n",
    "    \"Sea level pressure\", \"Barometric trend type\", \"10-min mean wind direction\",\n",
    "    \"10-min mean wind speed\", \"Dew point\", \"Humidity\", \"Horizontal visibility\",\n",
    "    \"Station pressure\", \"Temperature (C)\"\n",
    "]\n",
    "print(\"Common physical measurement columns:\")\n",
    "print(common_columns)"
   ]
  },
  {
   "cell_type": "markdown",
   "id": "6985568d",
   "metadata": {},
   "source": [
    "## Handle Missing Values\n",
    "Fill or drop missing values in the dataset to prepare it for machine learning models."
   ]
  },
  {
   "cell_type": "code",
   "execution_count": 5,
   "id": "b1994917",
   "metadata": {},
   "outputs": [
    {
     "name": "stdout",
     "output_type": "stream",
     "text": [
      "Missing values handled.\n"
     ]
    },
    {
     "name": "stderr",
     "output_type": "stream",
     "text": [
      "C:\\Users\\hakta\\AppData\\Local\\Temp\\ipykernel_18076\\618994140.py:3: FutureWarning: A value is trying to be set on a copy of a DataFrame or Series through chained assignment using an inplace method.\n",
      "The behavior will change in pandas 3.0. This inplace method will never work because the intermediate object on which we are setting values always behaves as a copy.\n",
      "\n",
      "For example, when doing 'df[col].method(value, inplace=True)', try using 'df.method({col: value}, inplace=True)' or df[col] = df[col].method(value) instead, to perform the operation inplace on the original object.\n",
      "\n",
      "\n",
      "  df[column].fillna(df[column].mean(), inplace=True)\n"
     ]
    }
   ],
   "source": [
    "# Handle Missing Values\n",
    "for column in common_columns:\n",
    "    df[column].fillna(df[column].mean(), inplace=True)\n",
    "print(\"Missing values handled.\")"
   ]
  },
  {
   "cell_type": "markdown",
   "id": "5dfc4c27",
   "metadata": {},
   "source": [
    "## Normalize Data\n",
    "Normalize the numerical columns to a range of -1 to 1 using MinMaxScaler."
   ]
  },
  {
   "cell_type": "code",
   "execution_count": 6,
   "id": "ec5e9008",
   "metadata": {},
   "outputs": [
    {
     "name": "stdout",
     "output_type": "stream",
     "text": [
      "Data normalized.\n"
     ]
    }
   ],
   "source": [
    "# Normalize Data\n",
    "scaler = MinMaxScaler(feature_range=(-1, 1))\n",
    "df[common_columns] = scaler.fit_transform(df[common_columns])\n",
    "print(\"Data normalized.\")"
   ]
  },
  {
   "cell_type": "markdown",
   "id": "3d683fd3",
   "metadata": {},
   "source": [
    "## Linear Regression\n",
    "Train and evaluate a linear regression model for each physical measurement in Scenario 1 and on the combined data in Scenario 2."
   ]
  },
  {
   "cell_type": "code",
   "execution_count": 7,
   "id": "50940815",
   "metadata": {},
   "outputs": [
    {
     "name": "stdout",
     "output_type": "stream",
     "text": [
      "Linear Regression - MAE: 0.020515196127335416, R²: 0.9892443758042915\n"
     ]
    }
   ],
   "source": [
    "# Linear Regression\n",
    "X = df[common_columns].drop(columns=[\"Temperature (C)\"])\n",
    "y = df[\"Temperature (C)\"]\n",
    "\n",
    "X_train, X_test, y_train, y_test = train_test_split(X, y, test_size=0.2, random_state=42)\n",
    "\n",
    "lr_model = LinearRegression()\n",
    "lr_model.fit(X_train, y_train)\n",
    "y_pred = lr_model.predict(X_test)\n",
    "\n",
    "mae = mean_absolute_error(y_test, y_pred)\n",
    "r2 = r2_score(y_test, y_pred)\n",
    "print(f\"Linear Regression - MAE: {mae}, R²: {r2}\")"
   ]
  },
  {
   "cell_type": "markdown",
   "id": "c4add3c5",
   "metadata": {},
   "source": [
    "## Random Forest\n",
    "Train and evaluate a random forest model for each physical measurement in Scenario 1 and on the combined data in Scenario 2."
   ]
  },
  {
   "cell_type": "code",
   "execution_count": 8,
   "id": "90194dea",
   "metadata": {},
   "outputs": [
    {
     "name": "stdout",
     "output_type": "stream",
     "text": [
      "Random Forest - MAE: 0.0012570847171043465, R²: 0.999501490611814\n"
     ]
    }
   ],
   "source": [
    "# Random Forest\n",
    "rf_model = RandomForestRegressor(n_estimators=100, random_state=42)\n",
    "rf_model.fit(X_train, y_train)\n",
    "y_pred_rf = rf_model.predict(X_test)\n",
    "\n",
    "mae_rf = mean_absolute_error(y_test, y_pred_rf)\n",
    "r2_rf = r2_score(y_test, y_pred_rf)\n",
    "print(f\"Random Forest - MAE: {mae_rf}, R²: {r2_rf}\")"
   ]
  },
  {
   "cell_type": "markdown",
   "id": "ce93f01f",
   "metadata": {},
   "source": [
    "## Gradient Boosting\n",
    "Train and evaluate a gradient boosting model for each physical measurement in Scenario 1 and on the combined data in Scenario 2."
   ]
  },
  {
   "cell_type": "code",
   "execution_count": null,
   "id": "0936d8c1",
   "metadata": {},
   "outputs": [],
   "source": [
    "# Gradient Boosting\n",
    "gb_model = GradientBoostingRegressor(n_estimators=100, random_state=42)\n",
    "gb_model.fit(X_train, y_train)\n",
    "y_pred_gb = gb_model.predict(X_test)\n",
    "\n",
    "mae_gb = mean_absolute_error(y_test, y_pred_gb)\n",
    "r2_gb = r2_score(y_test, y_pred_gb)\n",
    "print(f\"Gradient Boosting - MAE: {mae_gb}, R²: {r2_gb}\")"
   ]
  },
  {
   "cell_type": "markdown",
   "id": "2330d958",
   "metadata": {},
   "source": [
    "## Neural Networks\n",
    "Train and evaluate a neural network model for each physical measurement in Scenario 1 and on the combined data in Scenario 2."
   ]
  },
  {
   "cell_type": "code",
   "execution_count": null,
   "id": "6211230f",
   "metadata": {},
   "outputs": [],
   "source": [
    "# Neural Networks\n",
    "def create_nn_model(input_shape):\n",
    "    model = keras.Sequential([\n",
    "        keras.layers.Dense(64, activation=\"relu\", input_shape=(input_shape,)),\n",
    "        keras.layers.Dense(32, activation=\"relu\"),\n",
    "        keras.layers.Dense(1)\n",
    "    ])\n",
    "    model.compile(optimizer=\"adam\", loss=\"mean_squared_error\")\n",
    "    return model\n",
    "\n",
    "nn_model = create_nn_model(X_train.shape[1])\n",
    "nn_model.fit(X_train, y_train, epochs=50, verbose=0)\n",
    "y_pred_nn = nn_model.predict(X_test).flatten()\n",
    "\n",
    "mae_nn = mean_absolute_error(y_test, y_pred_nn)\n",
    "r2_nn = r2_score(y_test, y_pred_nn)\n",
    "print(f\"Neural Networks - MAE: {mae_nn}, R²: {r2_nn}\")"
   ]
  },
  {
   "cell_type": "markdown",
   "id": "748fab4a",
   "metadata": {},
   "source": [
    "## XGBoost\n",
    "Train and evaluate an XGBoost model for each physical measurement in Scenario 1 and on the combined data in Scenario 2."
   ]
  },
  {
   "cell_type": "code",
   "execution_count": null,
   "id": "6c0e5db2",
   "metadata": {},
   "outputs": [],
   "source": [
    "# XGBoost\n",
    "xgb_model = xgb.XGBRegressor(n_estimators=100, random_state=42)\n",
    "xgb_model.fit(X_train, y_train)\n",
    "y_pred_xgb = xgb_model.predict(X_test)\n",
    "\n",
    "mae_xgb = mean_absolute_error(y_test, y_pred_xgb)\n",
    "r2_xgb = r2_score(y_test, y_pred_xgb)\n",
    "print(f\"XGBoost - MAE: {mae_xgb}, R²: {r2_xgb}\")"
   ]
  }
 ],
 "metadata": {
  "kernelspec": {
   "display_name": ".venv",
   "language": "python",
   "name": "python3"
  },
  "language_info": {
   "codemirror_mode": {
    "name": "ipython",
    "version": 3
   },
   "file_extension": ".py",
   "mimetype": "text/x-python",
   "name": "python",
   "nbconvert_exporter": "python",
   "pygments_lexer": "ipython3",
   "version": "3.13.3"
  }
 },
 "nbformat": 4,
 "nbformat_minor": 5
}
